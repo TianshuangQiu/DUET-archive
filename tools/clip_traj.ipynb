{
 "cells": [
  {
   "cell_type": "code",
   "execution_count": 165,
   "metadata": {},
   "outputs": [],
   "source": [
    "import os\n",
    "import pandas as pd\n",
    "import numpy as np\n",
    "import matplotlib.pyplot as plt\n",
    "from matplotlib.animation import FuncAnimation"
   ]
  },
  {
   "cell_type": "code",
   "execution_count": 166,
   "metadata": {},
   "outputs": [
    {
     "name": "stdout",
     "output_type": "stream",
     "text": [
      "(2211, 25)\n"
     ]
    }
   ],
   "source": [
    "with open(\"/home/akita/autolab/DUET/saves/C0_09\", \"rb\") as f:\n",
    "    data = np.load(f)\n",
    "data=data[43:]\n",
    "tmp = pd.read_csv(\"/home/akita/autolab/DUET/datafiles/IMG_4015.dat\", delimiter='\\t').to_numpy(dtype=np.float)\n",
    "# tmp=tmp[200:]\n",
    "traj = []\n",
    "for i in np.arange(0, len(tmp), len(tmp)/len(data)):\n",
    "    traj.append(tmp[(int)(i)])\n",
    "traj = np.array(traj)\n",
    "print(traj.shape)"
   ]
  },
  {
   "cell_type": "code",
   "execution_count": 167,
   "metadata": {},
   "outputs": [
    {
     "name": "stdout",
     "output_type": "stream",
     "text": [
      "({0: (1154.52, 924.988), 1: (1189.67, 1107.46), 2: (1054.3, 1113.36), 3: (1013.54, 1343.09), 4: (1001.56, 1537.28), 5: (1313.48, 1101.77), 6: (1348.75, 1336.89), 7: (1354.87, 1531.58), 8: (1189.72, 1490.25), 9: (1005.7335, 1675.1775), 10: (1372.145, 1666.035)}, [3.1415900000000003, -0.2317, -0.08135, -0.07603, 1.5708, -1.52049])\n"
     ]
    }
   ],
   "source": [
    "all_frames = {}\n",
    "for index, (human, robot) in enumerate(zip(data, traj)):\n",
    "    body_dict={}\n",
    "    robot_dict=[robot[i+1] for i in range(6)]\n",
    "    for i in range(9):\n",
    "        x = human[i*2]\n",
    "        y = human[i*2+1]\n",
    "        body_dict[i] = (x, y)\n",
    "    hands = human[48:48+85]\n",
    "    hand = np.array([0,0], dtype='float64')\n",
    "    for i in [4, 8, 16, 20]:\n",
    "        hand += np.array([hands[i*4], hands[i*4+1]])\n",
    "    body_dict[9] = tuple(hand/4)\n",
    "\n",
    "    hand = np.array([0,0], dtype='float64')\n",
    "    for i in [4, 8, 16, 20]:\n",
    "        hand += np.array([hands[i*4+2], hands[i*4+3]])\n",
    "    body_dict[10] = tuple(hand/4)\n",
    "\n",
    "    all_frames[index] = (body_dict, robot_dict)\n",
    "\n",
    "print(all_frames[0])"
   ]
  },
  {
   "cell_type": "code",
   "execution_count": 168,
   "metadata": {},
   "outputs": [],
   "source": [
    "import urdfpy\n",
    "from urdfpy import URDF\n",
    "\n",
    "def compute_fk(robot, angle_arr):\n",
    "    robot_dict = {i:joint for i, joint in enumerate(robot.actuated_joints)}\n",
    "    fk = robot.link_fk(cfg={robot_dict[i]:angle for i, angle in enumerate(angle_arr)})\n",
    "    return [fk[robot.links[i]] for i in range(8)]\n"
   ]
  },
  {
   "cell_type": "code",
   "execution_count": 169,
   "metadata": {},
   "outputs": [
    {
     "name": "stderr",
     "output_type": "stream",
     "text": [
      "face_normals all zero, ignoring!\n",
      "face_normals all zero, ignoring!\n",
      "face_normals all zero, ignoring!\n",
      "face_normals all zero, ignoring!\n",
      "face_normals all zero, ignoring!\n",
      "face_normals all zero, ignoring!\n",
      "face_normals all zero, ignoring!\n"
     ]
    }
   ],
   "source": [
    "robot = URDF.load(\"/home/akita/autolab/urdfpy/tests/data/ur5/ur5.urdf\")\n",
    "\n",
    "def animate(i):\n",
    "    global fingers1\n",
    "    global fingers2\n",
    "    global gripper\n",
    "    global trails\n",
    "    \n",
    "    frame_dict = all_frames[i][0]\n",
    "    curr_trail = np.zeros(6)\n",
    "\n",
    "    if not(frame_dict[1] == (0, 0) or frame_dict[2] == (0, 0)):\n",
    "        x = np.linspace(frame_dict[1][0], frame_dict[2][0])\n",
    "        y = np.linspace(frame_dict[1][1], frame_dict[2][1])\n",
    "        shoulder1.set_data(x, y)\n",
    "\n",
    "    if not(frame_dict[1] == (0, 0) or frame_dict[5] == (0, 0)):\n",
    "        x = np.linspace(frame_dict[1][0], frame_dict[5][0])\n",
    "        y = np.linspace(frame_dict[1][1], frame_dict[5][1])\n",
    "        shoulder2.set_data(x, y)\n",
    "\n",
    "    if not(frame_dict[2] == (0, 0) or frame_dict[3] == (0, 0)):\n",
    "        x = np.linspace(frame_dict[2][0], frame_dict[3][0])\n",
    "        y = np.linspace(frame_dict[2][1], frame_dict[3][1])\n",
    "        elbow1.set_data(x, y)\n",
    "\n",
    "    if not(frame_dict[5] == (0, 0) or frame_dict[6] == (0, 0)):\n",
    "        x = np.linspace(frame_dict[5][0], frame_dict[6][0])\n",
    "        y = np.linspace(frame_dict[5][1], frame_dict[6][1])\n",
    "        elbow2.set_data(x, y)\n",
    "\n",
    "    if not(frame_dict[3] == (0, 0) or frame_dict[4] == (0, 0)):\n",
    "        x = np.linspace(frame_dict[3][0], frame_dict[4][0])\n",
    "        y = np.linspace(frame_dict[3][1], frame_dict[4][1])\n",
    "        wrist1.set_data(x, y)\n",
    "\n",
    "    if not(frame_dict[6] == (0, 0) or frame_dict[7] == (0, 0)):\n",
    "        x = np.linspace(frame_dict[6][0], frame_dict[7][0])\n",
    "        y = np.linspace(frame_dict[6][1], frame_dict[7][1])\n",
    "        wrist2.set_data(x, y)\n",
    "\n",
    "\n",
    "    if not(frame_dict[4] == (0, 0) or frame_dict[9] == (0, 0)):\n",
    "        hand1.set_data(np.linspace(frame_dict[4][0], frame_dict[9][0]),\n",
    "                      np.linspace(frame_dict[4][1], frame_dict[9][1]))\n",
    "        fingers1.remove()\n",
    "        fingers1 = ax.scatter(frame_dict[9][0], frame_dict[9][1], c='green')\n",
    "\n",
    "        curr_trail[0] = frame_dict[9][0]\n",
    "        curr_trail[1] = frame_dict[9][1]\n",
    "            \n",
    "\n",
    "    if not(frame_dict[7] == (0, 0) or frame_dict[10] == (0, 0)):\n",
    "        hand2.set_data(np.linspace(frame_dict[7][0], frame_dict[10][0]),\n",
    "                      np.linspace(frame_dict[7][1], frame_dict[10][1]))\n",
    "        fingers2.remove()\n",
    "        fingers2 = ax.scatter(frame_dict[10][0], frame_dict[10][1], c='red')\n",
    "        curr_trail[2] = frame_dict[10][0]\n",
    "        curr_trail[3] = frame_dict[10][1]\n",
    "\n",
    "\n",
    "    if not(frame_dict[1] == (0, 0) or frame_dict[8] == (0, 0)):\n",
    "        x = np.linspace(frame_dict[1][0], frame_dict[8][0])\n",
    "        y = np.linspace(frame_dict[1][1], frame_dict[8][1])\n",
    "        chest.set_data(x, y)\n",
    "\n",
    "    robot_pose = compute_fk(robot, all_frames[i][1])\n",
    "\n",
    "    prev = np.array([0,0], dtype=float)\n",
    "    jt = np.linspace(prev, robot_pose[0][0:3:2, 3:].T[0])\n",
    "    segment0.set_data(jt[:,0], jt[:, 1])\n",
    "    prev = jt[-1]\n",
    "    \n",
    "    jt = np.linspace(prev, robot_pose[1][0:3:2, 3:].T[0])\n",
    "    segment1.set_data(jt[:,0], jt[:, 1])\n",
    "    prev = jt[-1]\n",
    "\n",
    "    jt = np.linspace(prev, robot_pose[2][0:3:2, 3:].T[0])\n",
    "    segment2.set_data(jt[:,0], jt[:, 1])\n",
    "    prev = jt[-1]\n",
    "\n",
    "    jt = np.linspace(prev, robot_pose[3][0:3:2, 3:].T[0])\n",
    "    segment3.set_data(jt[:,0], jt[:, 1])\n",
    "    prev = jt[-1]\n",
    "\n",
    "    jt = np.linspace(prev, robot_pose[4][0:3:2, 3:].T[0])\n",
    "    segment4.set_data(jt[:,0], jt[:, 1])\n",
    "    prev = jt[-1]\n",
    "\n",
    "    jt = np.linspace(prev, robot_pose[5][0:3:2, 3:].T[0])\n",
    "    segment5.set_data(jt[:,0], jt[:, 1])\n",
    "    prev = jt[-1]\n",
    "\n",
    "    jt = np.linspace(prev, robot_pose[6][0:3:2, 3:].T[0])\n",
    "    segment6.set_data(jt[:,0], jt[:, 1])\n",
    "    prev = jt[-1]\n",
    "\n",
    "    gripper.remove()\n",
    "    gripper = fax.scatter(prev[0], prev[1], c='blue')\n",
    "    curr_trail[4] = prev[0]\n",
    "    curr_trail[5] = prev[1]\n",
    "    \n",
    "    trails = np.vstack([trails, curr_trail])\n",
    "    trail1.set_data(trails[1:].T[0], trails[1:].T[1])\n",
    "    trail2.set_data(trails[1:].T[2], trails[1:].T[3])\n",
    "    trail3.set_data(trails[1:].T[4], trails[1:].T[5])\n",
    "\n",
    "    \n",
    "    return shoulder1, shoulder2, neck, elbow1, elbow2, chest,\\\n",
    "        wrist1, wrist2, hand1, hand2, segment0, segment1,\\\n",
    "        segment2, segment3, segment4, segment5, segment6,\\\n",
    "        trail1, trail2, trail3\n"
   ]
  },
  {
   "cell_type": "code",
   "execution_count": 170,
   "metadata": {},
   "outputs": [
    {
     "data": {
      "image/png": "[encoded data removed]",
      "text/plain": [
       "<Figure size 1440x720 with 2 Axes>"
      ]
     },
     "metadata": {
      "needs_background": "light"
     },
     "output_type": "display_data"
    }
   ],
   "source": [
    "fig, (ax, fax) = plt.subplots(1, 2, figsize=(\n",
    "    20, 10), sharex=False, sharey=False)\n",
    "ax.set_ylim([0, 2000])\n",
    "ax.set_xlim([250, 2250])\n",
    "\n",
    "elbow1, = ax.plot([], [])\n",
    "wrist1, = ax.plot([], [])\n",
    "hand1, = ax.plot([], [])\n",
    "hand2, = ax.plot([],[])\n",
    "fingers1 = ax.scatter([],[])\n",
    "fingers2 = ax.scatter([],[])\n",
    "shoulder1, = ax.plot([], [])\n",
    "shoulder2, = ax.plot([], [])\n",
    "neck, = ax.plot([], [])\n",
    "\n",
    "elbow2, = ax.plot([], [])\n",
    "wrist2, = ax.plot([], [])\n",
    "chest, = ax.plot([], [])\n",
    "hip1, = ax.plot([], [])\n",
    "hip2, = ax.plot([], [])\n",
    "knee1, = ax.plot([], [])\n",
    "knee2, = ax.plot([], [])\n",
    "ankle1, = ax.plot([], [])\n",
    "ankle2, = ax.plot([], [])\n",
    "\n",
    "fax.set_ylim([-1, 1])\n",
    "fax.set_xlim([-1, 1])\n",
    "segment0, = fax.plot([],[])\n",
    "segment1, = fax.plot([],[])\n",
    "segment2, = fax.plot([],[])\n",
    "segment3, = fax.plot([],[])\n",
    "segment4, = fax.plot([],[])\n",
    "segment5, = fax.plot([],[])\n",
    "segment6, = fax.plot([],[])\n",
    "gripper = fax.scatter([],[])\n",
    "\n",
    "trail1, = ax.plot([],[],'--',c='green')\n",
    "trail2, = ax.plot([],[],'--',c='red')\n",
    "trail3, = fax.plot([],[],'--',c='blue')\n",
    "\n",
    "trails = np.zeros(6)\n",
    "\n",
    "fax.axes.xaxis.set_visible(False)\n",
    "fax.axes.yaxis.set_visible(False)\n",
    "fax.set_title(\"Robot Trajectory\")\n",
    "\n",
    "ax.invert_yaxis()\n",
    "ax.axes.xaxis.set_visible(False)\n",
    "ax.axes.yaxis.set_visible(False)\n",
    "ax.set_title(\"Human Trajectory\")\n",
    "\n",
    "\n",
    "anim = FuncAnimation(\n",
    "    fig,\n",
    "    animate,\n",
    "    frames=len(all_frames),\n",
    "    interval=20,\n",
    "    blit=True,\n",
    ")\n",
    "plt.show()\n",
    "anim.save(\"fk09.gif\", fps=30)\n",
    "\n"
   ]
  },
  {
   "cell_type": "code",
   "execution_count": null,
   "metadata": {},
   "outputs": [],
   "source": []
  }
 ],
 "metadata": {
  "interpreter": {
   "hash": "aafe1c7ea73ae5b372f5e2de8cf82e54bd6b55816669ee76d05b96333948ec3c"
  },
  "kernelspec": {
   "display_name": "Python 3.6.13 ('exp')",
   "language": "python",
   "name": "python3"
  },
  "language_info": {
   "codemirror_mode": {
    "name": "ipython",
    "version": 3
   },
   "file_extension": ".py",
   "mimetype": "text/x-python",
   "name": "python",
   "nbconvert_exporter": "python",
   "pygments_lexer": "ipython3",
   "version": "3.6.13"
  },
  "orig_nbformat": 4
 },
 "nbformat": 4,
 "nbformat_minor": 2
}
